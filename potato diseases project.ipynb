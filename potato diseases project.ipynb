{
 "cells": [
  {
   "cell_type": "code",
   "execution_count": 39,
   "id": "9272e6d2",
   "metadata": {},
   "outputs": [],
   "source": [
    "import tensorflow as tf\n",
    "from tensorflow.keras import models, layers\n",
    "import matplotlib.pyplot as plt\n",
    "from IPython.display import HTML"
   ]
  },
  {
   "cell_type": "code",
   "execution_count": 40,
   "id": "1fc80fd0",
   "metadata": {},
   "outputs": [],
   "source": [
    "IMAGE_SIZE = 256\n",
    "CHANNELS = 3\n",
    "#train= r'C:\\Users\\ruths\\Desktop\\potato diseases\\PlantVillage\\Pepper__bell___Bacterial_spot'"
   ]
  },
  {
   "cell_type": "code",
   "execution_count": 41,
   "id": "c2d8be38",
   "metadata": {},
   "outputs": [
    {
     "name": "stdout",
     "output_type": "stream",
     "text": [
      "Found 2153 images belonging to 3 classes.\n"
     ]
    }
   ],
   "source": [
    "from tensorflow.keras.preprocessing.image import ImageDataGenerator\n",
    "\n",
    "train_datagen = ImageDataGenerator(\n",
    "        rescale=1./255,\n",
    "        rotation_range=10,\n",
    "        horizontal_flip=True\n",
    ")\n",
    "train_generator = train_datagen.flow_from_directory(\n",
    "        r'C:\\Users\\ruths\\Desktop\\potato diseases\\PlantVillage\\train',\n",
    "        target_size=(IMAGE_SIZE,IMAGE_SIZE),\n",
    "        batch_size=32,\n",
    "        class_mode=\"sparse\",\n",
    "#         save_to_dir=\"C:\\\\Code\\\\potato-disease-classification\\\\training\\\\AugmentedImages\"\n",
    ")"
   ]
  },
  {
   "cell_type": "code",
   "execution_count": 42,
   "id": "12518157",
   "metadata": {},
   "outputs": [
    {
     "data": {
      "text/plain": [
       "{'Potato___Early_blight': 0, 'Potato___Late_blight': 1, 'Potato___healthy': 2}"
      ]
     },
     "execution_count": 42,
     "metadata": {},
     "output_type": "execute_result"
    }
   ],
   "source": [
    "train_generator.class_indices"
   ]
  },
  {
   "cell_type": "code",
   "execution_count": 43,
   "id": "dacd9539",
   "metadata": {},
   "outputs": [
    {
     "data": {
      "text/plain": [
       "['Potato___Early_blight', 'Potato___Late_blight', 'Potato___healthy']"
      ]
     },
     "execution_count": 43,
     "metadata": {},
     "output_type": "execute_result"
    }
   ],
   "source": [
    "class_names = list(train_generator.class_indices.keys())\n",
    "class_names"
   ]
  },
  {
   "cell_type": "code",
   "execution_count": 44,
   "id": "45ad6272",
   "metadata": {},
   "outputs": [
    {
     "name": "stdout",
     "output_type": "stream",
     "text": [
      "[[[0.72156864 0.70980394 0.75294125]\n",
      "  [0.7135485  0.7017838  0.744921  ]\n",
      "  [0.69382685 0.68206215 0.7251994 ]\n",
      "  ...\n",
      "  [0.6202018  0.6084371  0.6515744 ]\n",
      "  [0.6213511  0.6095864  0.6527237 ]\n",
      "  [0.6225005  0.6107358  0.653873  ]]\n",
      "\n",
      " [[0.72156864 0.70980394 0.75294125]\n",
      "  [0.7144105  0.7026458  0.74578303]\n",
      "  [0.6955508  0.6837861  0.72692335]\n",
      "  ...\n",
      "  [0.65053713 0.6387724  0.6819097 ]\n",
      "  [0.65369767 0.64193296 0.6850702 ]\n",
      "  [0.6568583  0.64509356 0.6882309 ]]\n",
      "\n",
      " [[0.72156864 0.70980394 0.75294125]\n",
      "  [0.7152725  0.7035078  0.74664503]\n",
      "  [0.69727474 0.68551004 0.7286473 ]\n",
      "  ...\n",
      "  [0.66850007 0.65673536 0.6998727 ]\n",
      "  [0.6682128  0.65644807 0.6995853 ]\n",
      "  [0.6679254  0.6561607  0.69929796]]\n",
      "\n",
      " ...\n",
      "\n",
      " [[0.5631564  0.5513917  0.594529  ]\n",
      "  [0.564593   0.5528283  0.59596556]\n",
      "  [0.56602967 0.55426496 0.5974022 ]\n",
      "  ...\n",
      "  [0.53440225 0.52263755 0.5657748 ]\n",
      "  [0.55995667 0.54819196 0.5913292 ]\n",
      "  [0.54898924 0.53722453 0.5803618 ]]\n",
      "\n",
      " [[0.5852079  0.5734432  0.6165804 ]\n",
      "  [0.5872192  0.5754545  0.6185917 ]\n",
      "  [0.5892304  0.5774657  0.62060297]\n",
      "  ...\n",
      "  [0.53239095 0.52062625 0.5637635 ]\n",
      "  [0.55823267 0.54646796 0.5896052 ]\n",
      "  [0.55272454 0.54095984 0.5840971 ]]\n",
      "\n",
      " [[0.5903076  0.5785429  0.62168014]\n",
      "  [0.587147   0.5753823  0.61851954]\n",
      "  [0.5839864  0.5722217  0.61535895]\n",
      "  ...\n",
      "  [0.53037965 0.51861495 0.56175226]\n",
      "  [0.5565087  0.544744   0.58788127]\n",
      "  [0.5564598  0.5446951  0.58783233]]]\n"
     ]
    }
   ],
   "source": [
    "count=0\n",
    "for image_batch, label_batch in train_generator:\n",
    "#     print(label_batch)\n",
    "    print(image_batch[0])\n",
    "    break\n",
    "#     count+=1\n",
    "#     if count>2:\n",
    "#         break"
   ]
  },
  {
   "cell_type": "code",
   "execution_count": 45,
   "id": "c7108b9c",
   "metadata": {},
   "outputs": [
    {
     "name": "stdout",
     "output_type": "stream",
     "text": [
      "Found 2153 images belonging to 3 classes.\n"
     ]
    }
   ],
   "source": [
    "validation_datagen = ImageDataGenerator(\n",
    "        rescale=1./255,\n",
    "        rotation_range=10,\n",
    "        horizontal_flip=True)\n",
    "validation_generator = validation_datagen.flow_from_directory(\n",
    "        r'C:\\Users\\ruths\\Desktop\\potato diseases\\PlantVillage\\train',\n",
    "        target_size=(IMAGE_SIZE,IMAGE_SIZE),\n",
    "        batch_size=32,\n",
    "        class_mode=\"sparse\"\n",
    ")"
   ]
  },
  {
   "cell_type": "code",
   "execution_count": 46,
   "id": "14927105",
   "metadata": {},
   "outputs": [],
   "source": [
    "input_shape = (IMAGE_SIZE, IMAGE_SIZE, CHANNELS)\n",
    "n_classes = 3\n",
    "\n",
    "model = models.Sequential([\n",
    "    layers.InputLayer(input_shape=input_shape),\n",
    "    layers.Conv2D(32, kernel_size = (3,3), activation='relu'),\n",
    "    layers.MaxPooling2D((2, 2)),\n",
    "    layers.Conv2D(64,  kernel_size = (3,3), activation='relu'),\n",
    "    layers.MaxPooling2D((2, 2)),\n",
    "    layers.Conv2D(64,  kernel_size = (3,3), activation='relu'),\n",
    "    layers.MaxPooling2D((2, 2)),\n",
    "    layers.Conv2D(64, (3, 3), activation='relu'),\n",
    "    layers.MaxPooling2D((2, 2)),\n",
    "    layers.Conv2D(64, (3, 3), activation='relu'),\n",
    "    layers.MaxPooling2D((2, 2)),\n",
    "    layers.Conv2D(64, (3, 3), activation='relu'),\n",
    "    layers.MaxPooling2D((2, 2)),\n",
    "    layers.Flatten(),\n",
    "    layers.Dense(64, activation='relu'),\n",
    "    layers.Dense(n_classes, activation='softmax'),\n",
    "])"
   ]
  },
  {
   "cell_type": "code",
   "execution_count": 47,
   "id": "7b9d651e",
   "metadata": {},
   "outputs": [],
   "source": [
    "model.compile(\n",
    "    optimizer='adam',\n",
    "    loss=tf.keras.losses.SparseCategoricalCrossentropy(from_logits=False),\n",
    "    metrics=['accuracy']\n",
    ")"
   ]
  },
  {
   "cell_type": "code",
   "execution_count": 48,
   "id": "09e4929a",
   "metadata": {},
   "outputs": [
    {
     "name": "stdout",
     "output_type": "stream",
     "text": [
      "Epoch 1/20\n",
      "47/47 [==============================] - 113s 2s/step - loss: 0.9214 - accuracy: 0.4740 - val_loss: 0.8768 - val_accuracy: 0.4427\n",
      "Epoch 2/20\n",
      "47/47 [==============================] - 98s 2s/step - loss: 0.8756 - accuracy: 0.5053 - val_loss: 0.8019 - val_accuracy: 0.6510\n",
      "Epoch 3/20\n",
      "47/47 [==============================] - 113s 2s/step - loss: 0.7353 - accuracy: 0.6847 - val_loss: 0.5591 - val_accuracy: 0.8021\n",
      "Epoch 4/20\n",
      "47/47 [==============================] - 108s 2s/step - loss: 0.4725 - accuracy: 0.8132 - val_loss: 0.4712 - val_accuracy: 0.7760\n",
      "Epoch 5/20\n",
      "47/47 [==============================] - 105s 2s/step - loss: 0.3384 - accuracy: 0.8677 - val_loss: 0.1435 - val_accuracy: 0.9583\n",
      "Epoch 6/20\n",
      "47/47 [==============================] - 103s 2s/step - loss: 0.2275 - accuracy: 0.9196 - val_loss: 0.1562 - val_accuracy: 0.9531\n",
      "Epoch 7/20\n",
      "47/47 [==============================] - 89s 2s/step - loss: 0.1613 - accuracy: 0.9392 - val_loss: 0.1419 - val_accuracy: 0.9479\n",
      "Epoch 8/20\n",
      "47/47 [==============================] - 89s 2s/step - loss: 0.2118 - accuracy: 0.9291 - val_loss: 0.1416 - val_accuracy: 0.9479\n",
      "Epoch 9/20\n",
      "47/47 [==============================] - 93s 2s/step - loss: 0.1791 - accuracy: 0.9257 - val_loss: 0.1639 - val_accuracy: 0.9375\n",
      "Epoch 10/20\n",
      "47/47 [==============================] - 107s 2s/step - loss: 0.1408 - accuracy: 0.9555 - val_loss: 0.2889 - val_accuracy: 0.8906\n",
      "Epoch 11/20\n",
      "47/47 [==============================] - 98s 2s/step - loss: 0.1391 - accuracy: 0.9515 - val_loss: 0.1132 - val_accuracy: 0.9583\n",
      "Epoch 12/20\n",
      "47/47 [==============================] - 91s 2s/step - loss: 0.1115 - accuracy: 0.9581 - val_loss: 0.1000 - val_accuracy: 0.9688\n",
      "Epoch 13/20\n",
      "47/47 [==============================] - 96s 2s/step - loss: 0.1078 - accuracy: 0.9622 - val_loss: 0.0653 - val_accuracy: 0.9948\n",
      "Epoch 14/20\n",
      "47/47 [==============================] - 90s 2s/step - loss: 0.0902 - accuracy: 0.9723 - val_loss: 0.0439 - val_accuracy: 0.9896\n",
      "Epoch 15/20\n",
      "47/47 [==============================] - 94s 2s/step - loss: 0.0669 - accuracy: 0.9774 - val_loss: 0.1203 - val_accuracy: 0.9427\n",
      "Epoch 16/20\n",
      "47/47 [==============================] - 93s 2s/step - loss: 0.0885 - accuracy: 0.9649 - val_loss: 0.0433 - val_accuracy: 0.9844\n",
      "Epoch 17/20\n",
      "47/47 [==============================] - 109s 2s/step - loss: 0.0765 - accuracy: 0.9710 - val_loss: 0.0311 - val_accuracy: 0.9948\n",
      "Epoch 18/20\n",
      "47/47 [==============================] - 105s 2s/step - loss: 0.0537 - accuracy: 0.9784 - val_loss: 0.0807 - val_accuracy: 0.9896\n",
      "Epoch 19/20\n",
      "47/47 [==============================] - 103s 2s/step - loss: 0.1022 - accuracy: 0.9635 - val_loss: 0.0871 - val_accuracy: 0.9688\n",
      "Epoch 20/20\n",
      "47/47 [==============================] - 102s 2s/step - loss: 0.0525 - accuracy: 0.9847 - val_loss: 0.0406 - val_accuracy: 0.9896\n"
     ]
    }
   ],
   "source": [
    "history = model.fit(\n",
    "    train_generator,\n",
    "    steps_per_epoch=47,\n",
    "    batch_size=32,\n",
    "    validation_data=validation_generator,\n",
    "    validation_steps=6,\n",
    "    verbose=1,\n",
    "    epochs=20,\n",
    ")"
   ]
  },
  {
   "cell_type": "code",
   "execution_count": 49,
   "id": "0cb90fda",
   "metadata": {},
   "outputs": [
    {
     "data": {
      "text/plain": [
       "<keras.callbacks.History at 0x250aba5a280>"
      ]
     },
     "execution_count": 49,
     "metadata": {},
     "output_type": "execute_result"
    }
   ],
   "source": [
    "history"
   ]
  },
  {
   "cell_type": "code",
   "execution_count": 30,
   "id": "507f6e15",
   "metadata": {},
   "outputs": [
    {
     "data": {
      "text/plain": [
       "{'verbose': 1, 'epochs': 20, 'steps': 47}"
      ]
     },
     "execution_count": 30,
     "metadata": {},
     "output_type": "execute_result"
    }
   ],
   "source": [
    "history.params"
   ]
  },
  {
   "cell_type": "code",
   "execution_count": 31,
   "id": "6ce1758e",
   "metadata": {},
   "outputs": [
    {
     "data": {
      "text/plain": [
       "[0.8952980637550354,\n",
       " 0.7467684745788574,\n",
       " 0.5662391781806946,\n",
       " 0.46865591406822205,\n",
       " 0.36919480562210083]"
      ]
     },
     "execution_count": 31,
     "metadata": {},
     "output_type": "execute_result"
    }
   ],
   "source": [
    "history.history['loss'][:5]"
   ]
  },
  {
   "cell_type": "code",
   "execution_count": 32,
   "id": "455da067",
   "metadata": {},
   "outputs": [],
   "source": [
    "acc = history.history['accuracy']\n",
    "val_acc = history.history['val_accuracy']\n",
    "\n",
    "loss = history.history['loss']\n",
    "val_loss = history.history['val_loss']"
   ]
  },
  {
   "cell_type": "code",
   "execution_count": 33,
   "id": "5a4681e2",
   "metadata": {},
   "outputs": [
    {
     "data": {
      "text/plain": [
       "[0.453125,\n",
       " 0.734375,\n",
       " 0.8072916865348816,\n",
       " 0.8125,\n",
       " 0.8645833134651184,\n",
       " 0.9166666865348816,\n",
       " 0.9010416865348816,\n",
       " 0.9270833134651184,\n",
       " 0.984375,\n",
       " 0.9791666865348816,\n",
       " 0.9427083134651184,\n",
       " 0.9635416865348816,\n",
       " 0.953125,\n",
       " 0.9739583134651184,\n",
       " 0.9791666865348816,\n",
       " 0.9322916865348816,\n",
       " 0.9895833134651184,\n",
       " 0.984375,\n",
       " 0.9947916865348816,\n",
       " 0.9791666865348816]"
      ]
     },
     "execution_count": 33,
     "metadata": {},
     "output_type": "execute_result"
    }
   ],
   "source": [
    "val_acc"
   ]
  },
  {
   "cell_type": "code",
   "execution_count": 34,
   "id": "5ec8ec48",
   "metadata": {},
   "outputs": [
    {
     "data": {
      "text/plain": [
       "[0.46792706847190857,\n",
       " 0.616356372833252,\n",
       " 0.7427414059638977,\n",
       " 0.8062120079994202,\n",
       " 0.8338960409164429,\n",
       " 0.8597074747085571,\n",
       " 0.9000675082206726,\n",
       " 0.9392302632331848,\n",
       " 0.958776593208313,\n",
       " 0.9647606611251831,\n",
       " 0.9615125060081482,\n",
       " 0.9493585228919983,\n",
       " 0.9753989577293396,\n",
       " 0.9561107158660889,\n",
       " 0.9833776354789734,\n",
       " 0.9675894379615784,\n",
       " 0.9858204126358032,\n",
       " 0.9810938835144043,\n",
       " 0.9867021441459656,\n",
       " 0.9824442863464355]"
      ]
     },
     "execution_count": 34,
     "metadata": {},
     "output_type": "execute_result"
    }
   ],
   "source": [
    "acc"
   ]
  },
  {
   "cell_type": "code",
   "execution_count": 36,
   "id": "b81e5063",
   "metadata": {},
   "outputs": [
    {
     "data": {
      "image/png": "[encoded data removed]",
      "text/plain": [
       "<Figure size 576x576 with 2 Axes>"
      ]
     },
     "metadata": {
      "needs_background": "light"
     },
     "output_type": "display_data"
    }
   ],
   "source": [
    "EPOCHS = 20\n",
    "\n",
    "plt.figure(figsize=(8, 8))\n",
    "plt.subplot(1, 2, 1)\n",
    "plt.plot(range(EPOCHS), acc, label='Training Accuracy')\n",
    "plt.plot(range(EPOCHS), val_acc, label='Validation Accuracy')\n",
    "plt.legend(loc='lower right')\n",
    "plt.title('Training and Validation Accuracy')\n",
    "\n",
    "plt.subplot(1, 2, 2)\n",
    "plt.plot(range(EPOCHS), loss, label='Training Loss')\n",
    "plt.plot(range(EPOCHS), val_loss, label='Validation Loss')\n",
    "plt.legend(loc='upper right')\n",
    "plt.title('Training and Validation Loss')\n",
    "plt.show()"
   ]
  },
  {
   "cell_type": "code",
   "execution_count": 38,
   "id": "9603a20e",
   "metadata": {},
   "outputs": [
    {
     "ename": "NameError",
     "evalue": "name 'test_generator' is not defined",
     "output_type": "error",
     "traceback": [
      "\u001b[1;31m---------------------------------------------------------------------------\u001b[0m",
      "\u001b[1;31mNameError\u001b[0m                                 Traceback (most recent call last)",
      "\u001b[1;32m~\\AppData\\Local\\Temp/ipykernel_16612/614429550.py\u001b[0m in \u001b[0;36m<module>\u001b[1;34m\u001b[0m\n\u001b[0;32m      2\u001b[0m \u001b[1;33m\u001b[0m\u001b[0m\n\u001b[0;32m      3\u001b[0m \u001b[1;33m\u001b[0m\u001b[0m\n\u001b[1;32m----> 4\u001b[1;33m \u001b[1;32mfor\u001b[0m \u001b[0mimage_batch\u001b[0m\u001b[1;33m,\u001b[0m \u001b[0mlabel_batch\u001b[0m \u001b[1;32min\u001b[0m \u001b[0mtest_generator\u001b[0m\u001b[1;33m:\u001b[0m\u001b[1;33m\u001b[0m\u001b[1;33m\u001b[0m\u001b[0m\n\u001b[0m\u001b[0;32m      5\u001b[0m     \u001b[0mfirst_image\u001b[0m \u001b[1;33m=\u001b[0m \u001b[0mimage_batch\u001b[0m\u001b[1;33m[\u001b[0m\u001b[1;36m0\u001b[0m\u001b[1;33m]\u001b[0m\u001b[1;33m\u001b[0m\u001b[1;33m\u001b[0m\u001b[0m\n\u001b[0;32m      6\u001b[0m     \u001b[0mfirst_label\u001b[0m \u001b[1;33m=\u001b[0m \u001b[0mint\u001b[0m\u001b[1;33m(\u001b[0m\u001b[0mlabels_batch\u001b[0m\u001b[1;33m[\u001b[0m\u001b[1;36m0\u001b[0m\u001b[1;33m]\u001b[0m\u001b[1;33m)\u001b[0m\u001b[1;33m\u001b[0m\u001b[1;33m\u001b[0m\u001b[0m\n",
      "\u001b[1;31mNameError\u001b[0m: name 'test_generator' is not defined"
     ]
    }
   ],
   "source": [
    "import numpy as np\n",
    "\n",
    "\n",
    "for image_batch, label_batch in test_generator:\n",
    "    first_image = image_batch[0]\n",
    "    first_label = int(labels_batch[0])\n",
    "    \n",
    "    print(\"first image to predict\")\n",
    "    plt.imshow(first_image)\n",
    "    print(\"actual label:\",class_names[first_label])\n",
    "    \n",
    "    batch_prediction = model.predict(images_batch)\n",
    "    print(\"predicted label:\",class_names[np.argmax(batch_prediction[0])])\n",
    "    \n",
    "    break"
   ]
  },
  {
   "cell_type": "code",
   "execution_count": null,
   "id": "951a456b",
   "metadata": {},
   "outputs": [],
   "source": [
    "def predict(model, img):\n",
    "    img_array = tf.keras.preprocessing.image.img_to_array(images[i])\n",
    "    img_array = tf.expand_dims(img_array, 0)\n",
    "\n",
    "    predictions = model.predict(img_array)\n",
    "\n",
    "    predicted_class = class_names[np.argmax(predictions[0])]\n",
    "    confidence = round(100 * (np.max(predictions[0])), 2)\n",
    "    return predicted_class, confidence"
   ]
  }
 ],
 "metadata": {
  "kernelspec": {
   "display_name": "Python 3 (ipykernel)",
   "language": "python",
   "name": "python3"
  },
  "language_info": {
   "codemirror_mode": {
    "name": "ipython",
    "version": 3
   },
   "file_extension": ".py",
   "mimetype": "text/x-python",
   "name": "python",
   "nbconvert_exporter": "python",
   "pygments_lexer": "ipython3",
   "version": "3.9.7"
  }
 },
 "nbformat": 4,
 "nbformat_minor": 5
}
